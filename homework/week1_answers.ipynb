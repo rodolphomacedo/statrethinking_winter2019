{
 "cells": [
  {
   "cell_type": "markdown",
   "id": "04820ee9",
   "metadata": {},
   "source": [
    "# Week 1 - Statistical Rethinking 2019"
   ]
  },
  {
   "cell_type": "code",
   "execution_count": 26,
   "id": "2d569ee0",
   "metadata": {},
   "outputs": [],
   "source": [
    "import numpy as np\n",
    "from scipy import stats\n",
    "import pandas as pd\n",
    "import matplotlib.pyplot as plt\n",
    "import stan"
   ]
  },
  {
   "cell_type": "markdown",
   "id": "574c0a22",
   "metadata": {},
   "source": [
    "1) Suponha que o globo foi lançado gerando os dados de $8$ water em 15 lançamentos.\n",
    "\n",
    "Construir a distribuição posteriori, usando  *grid approximation*. Utilizar a mesma priori flat que usamos na aula."
   ]
  },
  {
   "cell_type": "code",
   "execution_count": 120,
   "id": "9fc98ce4",
   "metadata": {},
   "outputs": [],
   "source": [
    "# Initiais Parameters\n",
    "total_tossing = 15\n",
    "total_water = 10\n",
    "\n",
    "total_hypothesis_to_testing = 100"
   ]
  },
  {
   "cell_type": "code",
   "execution_count": 121,
   "id": "acf36796",
   "metadata": {},
   "outputs": [
    {
     "name": "stdout",
     "output_type": "stream",
     "text": [
      "Data: ['w', 'w', 'w', 'w', 'w', 'w', 'w', 'w', 'w', 'w', 'L', 'L', 'L', 'L', 'L']\n"
     ]
    }
   ],
   "source": [
    "# Generating data from tossing globe\n",
    "data = ['w'] * total_water + ['L'] * (total_tossing - total_water)\n",
    "\n",
    "print(\"Data: \", end=\"\")\n",
    "print(data)"
   ]
  },
  {
   "cell_type": "code",
   "execution_count": 122,
   "id": "744ab8d3",
   "metadata": {},
   "outputs": [],
   "source": [
    "# Transform data vetor in binary data\n",
    "data_bin = [1 if sample == 'w' else 0 for sample in data]"
   ]
  },
  {
   "cell_type": "code",
   "execution_count": 123,
   "id": "aafaa869",
   "metadata": {},
   "outputs": [],
   "source": [
    "# Total hypothesis adjust do scipy scope functions\n",
    "total_tossing = 1 / total_hypothesis_to_testing\n",
    "probs = np.arange(0, 1, (1/100))"
   ]
  },
  {
   "cell_type": "code",
   "execution_count": 124,
   "id": "b8d24555",
   "metadata": {},
   "outputs": [],
   "source": [
    "# Priori - flat\n",
    "priori = stats.uniform.pdf(probs, 0, 1)"
   ]
  },
  {
   "cell_type": "code",
   "execution_count": 125,
   "id": "4d36f255",
   "metadata": {},
   "outputs": [],
   "source": [
    "# Evaluate the likelihood\n",
    "sum_qty_w = sum(data_bin)\n",
    "total_tossing = len(data_bin)\n",
    "probs = np.arange(0, 1, (1/100))\n",
    "\n",
    "likelyhood = stats.binom.pmf(sum_qty_w, n=total_tossing, p=probs)"
   ]
  },
  {
   "cell_type": "code",
   "execution_count": 126,
   "id": "0184161d",
   "metadata": {},
   "outputs": [],
   "source": [
    "# Evaluate the posteriori\n",
    "\n",
    "posteriori = likelyhood * priori\n",
    "posteriori = posteriori / sum(posteriori)"
   ]
  },
  {
   "cell_type": "code",
   "execution_count": 127,
   "id": "d3cdaa93",
   "metadata": {},
   "outputs": [
    {
     "data": {
      "text/plain": [
       "[<matplotlib.lines.Line2D at 0x7f31db6b17f0>]"
      ]
     },
     "execution_count": 127,
     "metadata": {},
     "output_type": "execute_result"
    },
    {
     "data": {
      "image/png": "[encoded data removed]",
      "text/plain": [
       "<Figure size 432x288 with 1 Axes>"
      ]
     },
     "metadata": {
      "needs_background": "light"
     },
     "output_type": "display_data"
    }
   ],
   "source": [
    "plt.plot(posteriori)"
   ]
  },
  {
   "cell_type": "markdown",
   "id": "240de7ae",
   "metadata": {},
   "source": [
    "----"
   ]
  },
  {
   "cell_type": "markdown",
   "id": "ff740c9b",
   "metadata": {},
   "source": [
    "2) Usar a priori como: \n",
    "\n",
    "$$ priori_2 = \\Bigg\\{\\array{1,  p > 0.5 \\\\\n",
    "            0, c.c.   }$$ "
   ]
  },
  {
   "cell_type": "code",
   "execution_count": 128,
   "id": "3d3c047e",
   "metadata": {},
   "outputs": [],
   "source": [
    "priori2 = stats.uniform.pdf(probs, 0.5, 1)"
   ]
  },
  {
   "cell_type": "code",
   "execution_count": 129,
   "id": "c38c2cd7",
   "metadata": {},
   "outputs": [],
   "source": [
    "# Posteriori 2\n",
    "posteriori2 = likelyhood * priori2\n",
    "posteriori2 = posteriori2 / sum(posteriori2)"
   ]
  },
  {
   "cell_type": "code",
   "execution_count": 130,
   "id": "81d573c5",
   "metadata": {},
   "outputs": [
    {
     "data": {
      "text/plain": [
       "[<matplotlib.lines.Line2D at 0x7f31db698100>]"
      ]
     },
     "execution_count": 130,
     "metadata": {},
     "output_type": "execute_result"
    },
    {
     "data": {
      "image/png": "[encoded data removed]",
      "text/plain": [
       "<Figure size 432x288 with 1 Axes>"
      ]
     },
     "metadata": {
      "needs_background": "light"
     },
     "output_type": "display_data"
    }
   ],
   "source": [
    "plt.plot(posteriori2)"
   ]
  },
  {
   "cell_type": "markdown",
   "id": "5ec970bc",
   "metadata": {},
   "source": [
    "----"
   ]
  },
  {
   "cell_type": "markdown",
   "id": "e5625bbf",
   "metadata": {},
   "source": [
    "3) Obter um intervalo menor que $0.05$ dos quantil 99% "
   ]
  },
  {
   "cell_type": "code",
   "execution_count": 163,
   "id": "5935406c",
   "metadata": {},
   "outputs": [],
   "source": [
    "def generate_posteriori(qty_samples):\n",
    "\n",
    "    # Make the fast way the generating data\n",
    "    \"\"\"\n",
    "    total_tossing = 15\n",
    "    total_water = 10\n",
    "    \n",
    "    total_hypothesis_to_testing = 100\n",
    "    \n",
    "    # Generating data from tossing globe\n",
    "    data = ['w'] * total_water + ['L'] * (total_tossing - total_water)\n",
    "\n",
    "    # Transform data vetor in binary data\n",
    "    data_bin = [1 if sample == 'w' else 0 for sample in data]\n",
    "    \"\"\"\n",
    "    data_bin = stats.bernoulli(0.7).rvs(qty_samples)\n",
    "\n",
    "    # Total hypothesis adjust do scipy scope functions\n",
    "    total_tossing = 1 / total_hypothesis_to_testing\n",
    "    probs = np.arange(0, 1, (1/100))\n",
    "\n",
    "    # Priori - flat\n",
    "    priori = stats.uniform.pdf(probs, 0, 1)\n",
    "\n",
    "    # Evaluate the likelihood\n",
    "    sum_qty_w = sum(data_bin)\n",
    "    total_tossing = len(data_bin)\n",
    "    probs = np.arange(0, 1, (1/100))\n",
    "\n",
    "    likelyhood = stats.binom.pmf(sum_qty_w, n=total_tossing, p=probs)\n",
    "\n",
    "    # Evaluate the posteriori\n",
    "    posteriori = likelyhood * priori\n",
    "    posteriori = posteriori / sum(posteriori)\n",
    "\n",
    "    precision = ((np.sum(np.cumsum(posteriori) == 0) + np.sum(np.cumsum(posteriori) == 1))/100)\n",
    "    print(\"Precisâo:\", precision)\n",
    "    \n",
    "    plt.plot(posteriori)"
   ]
  },
  {
   "cell_type": "code",
   "execution_count": 168,
   "id": "bce1e256",
   "metadata": {},
   "outputs": [
    {
     "name": "stdout",
     "output_type": "stream",
     "text": [
      "Precisâo: 0.99\n"
     ]
    },
    {
     "data": {
      "image/png": "[encoded data removed]",
      "text/plain": [
       "<Figure size 432x288 with 1 Axes>"
      ]
     },
     "metadata": {
      "needs_background": "light"
     },
     "output_type": "display_data"
    }
   ],
   "source": [
    "posteriori = generate_posteriori(1000000)"
   ]
  }
 ],
 "metadata": {
  "kernelspec": {
   "display_name": "Python 3 (ipykernel)",
   "language": "python",
   "name": "python3"
  },
  "language_info": {
   "codemirror_mode": {
    "name": "ipython",
    "version": 3
   },
   "file_extension": ".py",
   "mimetype": "text/x-python",
   "name": "python",
   "nbconvert_exporter": "python",
   "pygments_lexer": "ipython3",
   "version": "3.8.10"
  }
 },
 "nbformat": 4,
 "nbformat_minor": 5
}
